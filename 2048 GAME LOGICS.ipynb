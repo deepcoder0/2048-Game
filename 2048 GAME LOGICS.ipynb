{
 "cells": [
  {
   "cell_type": "code",
   "execution_count": 13,
   "metadata": {},
   "outputs": [],
   "source": [
    "import random\n",
    "def start_game():\n",
    "    mat=[]\n",
    "    for i in range(4):\n",
    "        mat.append([0]*4)\n",
    "    return mat\n",
    "    \n",
    "def add_new_2(mat):\n",
    "    \n",
    "    # a new two add is added only when some movement is observed,if there is no change after moving then no new 2 is\n",
    "    # added.\n",
    "    r=random.randint(0,3) # r and c are some random integers that can take value from 0 to 3 (integers only)\n",
    "    c=random.randint(0,3)\n",
    "\n",
    "    while(mat[r][c] != 0):\n",
    "        r=random.randint(0,3)\n",
    "        c=random.randint(0,3)\n",
    "        \n",
    "    mat[r][c] = 2   \n",
    "    return mat\n",
    "\n",
    "                # Whenever you move, you need 3 functions:- 1. Compress 2. Merge 3.Move\n",
    "def merge(mat):\n",
    "    changed=False\n",
    "    # if any compression or merging happens after a movement than only we add a new 2 in our grid.\n",
    "    \n",
    "    for i in range(4):\n",
    "        for j in range(3):\n",
    "            if (mat[i][j] == mat[i][j+1] and mat[i][j] != 0):\n",
    "                mat[i][j] = mat[i][j+1]*2\n",
    "                mat[i][j+1] = 0\n",
    "                changed=True\n",
    "                \n",
    "    return mat,changed\n",
    "\n",
    "def compress(mat):\n",
    "    \n",
    "    # Here we push 0 values to end in a new matrix and non zeroes value in front in respective order.\n",
    "    \n",
    "    changed = False\n",
    "    new_mat=[]\n",
    "    for i in range(4):\n",
    "        new_mat.append([0]*4)\n",
    "        \n",
    "    for i in range(4):\n",
    "        pos=0\n",
    "        for j in range(4):\n",
    "            if(mat[i][j] != 0):\n",
    "                new_mat[i][pos]=mat[i][j]\n",
    "                \n",
    "                if j!=pos :    # Just checked for a change here.\n",
    "                    changed=True\n",
    "                    \n",
    "                pos+=1\n",
    "\n",
    "                \n",
    "    return new_mat,changed\n",
    "\n",
    "# There are two utility functions for moving ,those are : Transpose and Reverse \n",
    "\n",
    "def reverse(mat):\n",
    "    new_mat=[]\n",
    "    for i in range(4):\n",
    "        new_mat.append([])\n",
    "        for j in range(4):\n",
    "            new_mat[i].append(mat[i][4-j-1])\n",
    "    return new_mat\n",
    "    \n",
    "def transpose(mat):\n",
    "    new_mat=[]\n",
    "    for i in range(4):\n",
    "        new_mat.append([])\n",
    "        for j in range(4):\n",
    "            new_mat[i].append(mat[j][i])\n",
    "    \n",
    "    return new_mat\n",
    "                \n",
    "###### In left move, what happens : compress->Merge->Compress\n",
    "###### In right move, Reverse->Apply left move->reverse; REVERSING makes a right move similar to left\n",
    "###### In Up move, Transpose->Apply left move->Transpose    \n",
    "###### In Down move, Transpose->Apply Right move ->Transpose    \n",
    "\n",
    "def move_up(grid):\n",
    "    transposed_grid=transpose(grid)\n",
    "    new_grid,changed1 = compress(transposed_grid)\n",
    "    new_grid,changed2 = merge(new_grid)\n",
    "    changed=changed1 or changed2\n",
    "    new_grid,temp = compress(new_grid) # temp is of no use,it is just so that returned value can be stored \n",
    "    final_grid = transpose(new_grid)\n",
    "    \n",
    "    return final_grid,changed\n",
    "\n",
    "def move_down(grid):\n",
    "    transposed_grid=transpose(grid)\n",
    "    reversed_grid = reverse(transposed_grid)\n",
    "    new_grid,changed1 = compress(reversed_grid)\n",
    "    new_grid,changed2 = merge(new_grid)\n",
    "    changed = changed1 or changed2\n",
    "    new_grid,temp = compress(new_grid)\n",
    "    final_reversed_grid = reverse(new_grid)\n",
    "    final_grid=transpose(final_reversed_grid)\n",
    "\n",
    "    return final_grid,changed\n",
    "        \n",
    "\n",
    "def move_right(grid):\n",
    "    reversed_grid = reverse(grid)\n",
    "    new_grid,changed1 = compress(reversed_grid)\n",
    "    new_grid,changed2 = merge(new_grid)\n",
    "    changed = changed1 or changed2\n",
    "    new_grid,temp = compress(new_grid)\n",
    "    final_grid = reverse(new_grid)\n",
    "    \n",
    "    return final_grid,changed\n",
    "\n",
    "\n",
    "def move_left(grid):\n",
    "    new_grid,changed1 = compress(grid)\n",
    "    new_grid,changed2 = merge(new_grid)\n",
    "    changed = changed1 or changed2\n",
    "    final_grid,temp = compress(new_grid)\n",
    "    \n",
    "    return final_grid,changed\n",
    "\n",
    "\n",
    "def get_current_state(mat):\n",
    "    \n",
    "    #Three ossible conditions are there ;\n",
    "    #    1.WON\n",
    "    #    2.LOST\n",
    "    #    3.GAME NOT OVER\n",
    "    \n",
    "    for i in range(4):\n",
    "        for j in range(4):\n",
    "            if(mat[i][j] == 2048):\n",
    "                return \"WON\"\n",
    "            \n",
    "    for i in range(4):        # If a 0 is present in any block that means that an empty position is present\n",
    "        for j in range(4):\n",
    "            if(mat[i][j] == 0):\n",
    "                return \"GAME NOT OVER\"\n",
    "            \n",
    "    for i in range(3):   # here if consecutive elements either vertically or horizontally present,they can be combined\n",
    "        for j in range(3): # and more empty positions can be created.Range is take 3 so that index error is taken care\n",
    "            if(mat[i][j] == mat[i+1][j] or mat[i][j] == mat[i][j+1]):\n",
    "                return \"GAME NOT OVER\"\n",
    "            \n",
    "    # Now we will see conditions for last row and last column.\n",
    "    # its a case when now element in 3rd row/column is combinable with 4th row/column respectively.\n",
    "    \n",
    "    for j in range(3): # for eg in last row we have 2,2,4,8\n",
    "        if(mat[3][j] == mat[3][j+1]):\n",
    "            return  \"GAME NOT OVER\"\n",
    "        \n",
    "    for i in range(3): # for eg in last column we have 4,4,2,8\n",
    "        if(mat[i][3] == mat[i+1][3]):\n",
    "            return  \"GAME NOT OVER\"\n",
    "    \n",
    "    return \"LOST\" #if no conditions is performed that means you Lost the game.\n"
   ]
  },
  {
   "cell_type": "code",
   "execution_count": 20,
   "metadata": {},
   "outputs": [
    {
     "name": "stdout",
     "output_type": "stream",
     "text": [
      "[[0, 0, 0, 0], [0, 0, 0, 0], [0, 0, 0, 0], [0, 0, 0, 0]]\n"
     ]
    }
   ],
   "source": [
    "mat=start_game()\n",
    "print(mat)"
   ]
  },
  {
   "cell_type": "code",
   "execution_count": 21,
   "metadata": {},
   "outputs": [
    {
     "name": "stdout",
     "output_type": "stream",
     "text": [
      "[[0, 0, 0, 0], [0, 0, 0, 0], [2, 0, 0, 0], [0, 0, 0, 0]]\n"
     ]
    }
   ],
   "source": [
    "add_new_2(mat)\n",
    "print(mat)"
   ]
  },
  {
   "cell_type": "code",
   "execution_count": 22,
   "metadata": {},
   "outputs": [
    {
     "name": "stdout",
     "output_type": "stream",
     "text": [
      "[[0, 0, 0, 0], [0, 0, 0, 0], [2, 2, 0, 0], [0, 0, 0, 0]]\n"
     ]
    }
   ],
   "source": [
    "add_new_2(mat)\n",
    "print(mat)"
   ]
  },
  {
   "cell_type": "code",
   "execution_count": 23,
   "metadata": {},
   "outputs": [
    {
     "name": "stdout",
     "output_type": "stream",
     "text": [
      "[[2, 2, 0, 0], [0, 0, 0, 0], [0, 0, 0, 0], [0, 0, 0, 0]]\n"
     ]
    }
   ],
   "source": [
    "mat=move_up(mat)\n",
    "print(mat)"
   ]
  },
  {
   "cell_type": "code",
   "execution_count": 25,
   "metadata": {},
   "outputs": [
    {
     "name": "stdout",
     "output_type": "stream",
     "text": [
      "[[4, 0, 0, 0], [0, 0, 0, 0], [0, 0, 0, 0], [0, 0, 0, 0]]\n"
     ]
    }
   ],
   "source": [
    "mat=move_left(mat)\n",
    "print(mat)"
   ]
  },
  {
   "cell_type": "code",
   "execution_count": 26,
   "metadata": {},
   "outputs": [
    {
     "name": "stdout",
     "output_type": "stream",
     "text": [
      "[[4, 0, 0, 0], [0, 0, 0, 0], [0, 0, 0, 2], [0, 0, 0, 0]]\n"
     ]
    }
   ],
   "source": [
    "mat=add_new_2(mat)\n",
    "print(mat)"
   ]
  },
  {
   "cell_type": "code",
   "execution_count": 27,
   "metadata": {},
   "outputs": [
    {
     "data": {
      "text/plain": [
       "[[0, 0, 0, 4], [0, 0, 0, 0], [0, 0, 0, 2], [0, 0, 0, 0]]"
      ]
     },
     "execution_count": 27,
     "metadata": {},
     "output_type": "execute_result"
    }
   ],
   "source": [
    "mat=move_right(mat)\n",
    "mat"
   ]
  },
  {
   "cell_type": "code",
   "execution_count": 28,
   "metadata": {},
   "outputs": [
    {
     "name": "stdout",
     "output_type": "stream",
     "text": [
      "GAME NOT OVER\n"
     ]
    }
   ],
   "source": [
    "print(get_current_state(mat))"
   ]
  },
  {
   "cell_type": "code",
   "execution_count": 29,
   "metadata": {},
   "outputs": [
    {
     "data": {
      "text/plain": [
       "[[4, 0, 0, 0], [0, 0, 0, 0], [2, 0, 0, 0], [0, 0, 0, 0]]"
      ]
     },
     "execution_count": 29,
     "metadata": {},
     "output_type": "execute_result"
    }
   ],
   "source": [
    "mat=move_left(mat)\n",
    "mat"
   ]
  },
  {
   "cell_type": "code",
   "execution_count": 30,
   "metadata": {},
   "outputs": [
    {
     "name": "stdout",
     "output_type": "stream",
     "text": [
      "[[4, 2, 0, 0], [0, 0, 0, 0], [2, 0, 0, 0], [0, 0, 0, 0]]\n"
     ]
    }
   ],
   "source": [
    "mat=add_new_2(mat)\n",
    "print(mat)"
   ]
  },
  {
   "cell_type": "code",
   "execution_count": 32,
   "metadata": {},
   "outputs": [
    {
     "name": "stdout",
     "output_type": "stream",
     "text": [
      "[[4, 2, 2, 0], [2, 0, 2, 2], [2, 0, 0, 0], [0, 2, 0, 2]]\n"
     ]
    }
   ],
   "source": [
    "mat=add_new_2(mat)\n",
    "#print(mat)\n",
    "mat=add_new_2(mat)\n",
    "#print(mat)\n",
    "mat=add_new_2(mat)\n",
    "print(mat)"
   ]
  },
  {
   "cell_type": "code",
   "execution_count": 33,
   "metadata": {},
   "outputs": [
    {
     "data": {
      "text/plain": [
       "[[4, 4, 0, 0], [4, 2, 0, 0], [2, 0, 0, 0], [4, 0, 0, 0]]"
      ]
     },
     "execution_count": 33,
     "metadata": {},
     "output_type": "execute_result"
    }
   ],
   "source": [
    "mat=move_left(mat)\n",
    "mat\n"
   ]
  },
  {
   "cell_type": "code",
   "execution_count": 34,
   "metadata": {},
   "outputs": [
    {
     "data": {
      "text/plain": [
       "[[8, 0, 0, 0], [4, 2, 0, 0], [2, 0, 0, 0], [4, 0, 0, 0]]"
      ]
     },
     "execution_count": 34,
     "metadata": {},
     "output_type": "execute_result"
    }
   ],
   "source": [
    "mat=move_left(mat)\n",
    "mat"
   ]
  },
  {
   "cell_type": "code",
   "execution_count": null,
   "metadata": {},
   "outputs": [],
   "source": []
  }
 ],
 "metadata": {
  "kernelspec": {
   "display_name": "Python 3",
   "language": "python",
   "name": "python3"
  },
  "language_info": {
   "codemirror_mode": {
    "name": "ipython",
    "version": 3
   },
   "file_extension": ".py",
   "mimetype": "text/x-python",
   "name": "python",
   "nbconvert_exporter": "python",
   "pygments_lexer": "ipython3",
   "version": "3.7.2"
  }
 },
 "nbformat": 4,
 "nbformat_minor": 2
}
